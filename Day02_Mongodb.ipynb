{
 "cells": [
  {
   "cell_type": "code",
   "execution_count": 1,
   "metadata": {},
   "outputs": [],
   "source": [
    "from pymongo import MongoClient\n",
    "client=MongoClient()"
   ]
  },
  {
   "cell_type": "code",
   "execution_count": 2,
   "metadata": {},
   "outputs": [],
   "source": [
    "client1=MongoClient('localhost',27017)"
   ]
  },
  {
   "cell_type": "code",
   "execution_count": 3,
   "metadata": {},
   "outputs": [],
   "source": [
    "client2=MongoClient('mongodb://localhost:27017')"
   ]
  },
  {
   "cell_type": "code",
   "execution_count": 4,
   "metadata": {},
   "outputs": [
    {
     "data": {
      "text/plain": [
       "['HOST',\n",
       " 'PORT',\n",
       " '_BaseObject__codec_options',\n",
       " '_BaseObject__read_concern',\n",
       " '_BaseObject__read_preference',\n",
       " '_BaseObject__write_concern',\n",
       " '_MongoClient__all_credentials',\n",
       " '_MongoClient__cursor_manager',\n",
       " '_MongoClient__default_database_name',\n",
       " '_MongoClient__index_cache',\n",
       " '_MongoClient__index_cache_lock',\n",
       " '_MongoClient__kill_cursors_queue',\n",
       " '_MongoClient__lock',\n",
       " '_MongoClient__options',\n",
       " '_MongoClient__reset_server',\n",
       " '_MongoClient__start_session',\n",
       " '__class__',\n",
       " '__delattr__',\n",
       " '__dict__',\n",
       " '__dir__',\n",
       " '__doc__',\n",
       " '__enter__',\n",
       " '__eq__',\n",
       " '__exit__',\n",
       " '__format__',\n",
       " '__ge__',\n",
       " '__getattr__',\n",
       " '__getattribute__',\n",
       " '__getitem__',\n",
       " '__gt__',\n",
       " '__hash__',\n",
       " '__init__',\n",
       " '__init_subclass__',\n",
       " '__iter__',\n",
       " '__le__',\n",
       " '__lt__',\n",
       " '__module__',\n",
       " '__ne__',\n",
       " '__new__',\n",
       " '__next__',\n",
       " '__reduce__',\n",
       " '__reduce_ex__',\n",
       " '__repr__',\n",
       " '__setattr__',\n",
       " '__sizeof__',\n",
       " '__str__',\n",
       " '__subclasshook__',\n",
       " '__weakref__',\n",
       " '_cache_credentials',\n",
       " '_cache_index',\n",
       " '_cached',\n",
       " '_close_cursor',\n",
       " '_close_cursor_now',\n",
       " '_constructor_args',\n",
       " '_database_default_options',\n",
       " '_end_sessions',\n",
       " '_ensure_session',\n",
       " '_event_listeners',\n",
       " '_get_server_session',\n",
       " '_get_socket',\n",
       " '_get_topology',\n",
       " '_is_writable',\n",
       " '_kill_cursors',\n",
       " '_kill_cursors_executor',\n",
       " '_process_periodic_tasks',\n",
       " '_purge_credentials',\n",
       " '_purge_index',\n",
       " '_read_preference_for',\n",
       " '_receive_cluster_time',\n",
       " '_repr_helper',\n",
       " '_reset_on_error',\n",
       " '_reset_server_and_request_check',\n",
       " '_retry_with_session',\n",
       " '_retryable_write',\n",
       " '_return_server_session',\n",
       " '_send_cluster_time',\n",
       " '_send_message_with_response',\n",
       " '_server_property',\n",
       " '_socket_for_reads',\n",
       " '_socket_for_writes',\n",
       " '_tmp_session',\n",
       " '_topology',\n",
       " '_topology_settings',\n",
       " '_write_concern_for',\n",
       " 'address',\n",
       " 'arbiters',\n",
       " 'close',\n",
       " 'close_cursor',\n",
       " 'codec_options',\n",
       " 'database_names',\n",
       " 'drop_database',\n",
       " 'event_listeners',\n",
       " 'fsync',\n",
       " 'get_database',\n",
       " 'get_default_database',\n",
       " 'is_locked',\n",
       " 'is_mongos',\n",
       " 'is_primary',\n",
       " 'kill_cursors',\n",
       " 'list_database_names',\n",
       " 'list_databases',\n",
       " 'local_threshold_ms',\n",
       " 'max_bson_size',\n",
       " 'max_idle_time_ms',\n",
       " 'max_message_size',\n",
       " 'max_pool_size',\n",
       " 'max_write_batch_size',\n",
       " 'min_pool_size',\n",
       " 'next',\n",
       " 'nodes',\n",
       " 'primary',\n",
       " 'read_concern',\n",
       " 'read_preference',\n",
       " 'retry_writes',\n",
       " 'secondaries',\n",
       " 'server_info',\n",
       " 'server_selection_timeout',\n",
       " 'set_cursor_manager',\n",
       " 'start_session',\n",
       " 'unlock',\n",
       " 'watch',\n",
       " 'write_concern']"
      ]
     },
     "execution_count": 4,
     "metadata": {},
     "output_type": "execute_result"
    }
   ],
   "source": [
    "dir(client)"
   ]
  },
  {
   "cell_type": "code",
   "execution_count": 8,
   "metadata": {},
   "outputs": [
    {
     "name": "stderr",
     "output_type": "stream",
     "text": [
      "/anaconda3/lib/python3.7/site-packages/ipykernel_launcher.py:1: DeprecationWarning: database_names is deprecated. Use list_database_names instead.\n",
      "  \"\"\"Entry point for launching an IPython kernel.\n"
     ]
    },
    {
     "data": {
      "text/plain": [
       "['admin', 'config', 'local', 'students']"
      ]
     },
     "execution_count": 8,
     "metadata": {},
     "output_type": "execute_result"
    }
   ],
   "source": [
    "client.database_names()"
   ]
  },
  {
   "cell_type": "code",
   "execution_count": 6,
   "metadata": {},
   "outputs": [
    {
     "name": "stderr",
     "output_type": "stream",
     "text": [
      "/anaconda3/lib/python3.7/site-packages/ipykernel_launcher.py:1: DeprecationWarning: database_names is deprecated. Use list_database_names instead.\n",
      "  \"\"\"Entry point for launching an IPython kernel.\n"
     ]
    },
    {
     "data": {
      "text/plain": [
       "['admin', 'config', 'local', 'students']"
      ]
     },
     "execution_count": 6,
     "metadata": {},
     "output_type": "execute_result"
    }
   ],
   "source": [
    "client1.database_names()"
   ]
  },
  {
   "cell_type": "code",
   "execution_count": 7,
   "metadata": {},
   "outputs": [],
   "source": [
    "client.close()"
   ]
  },
  {
   "cell_type": "code",
   "execution_count": 28,
   "metadata": {},
   "outputs": [
    {
     "name": "stdout",
     "output_type": "stream",
     "text": [
      "1\n"
     ]
    }
   ],
   "source": [
    "from pymongo import MongoClient\n",
    "from datetime import datetime \n",
    "from bson.objectid import ObjectId\n",
    "class TestMongo(object):\n",
    "    def __init__(self):\n",
    "        self.client=MongoClient()\n",
    "        self.db=client['students']\n",
    "    def add_one(self):\n",
    "        post={\n",
    "            'name':\"zhangsan\",\n",
    "            'sex':\"male\",\n",
    "            'age':13,\n",
    "            'create_at':datetime.now()\n",
    "        }\n",
    "        return self.db.students.posts.insert_one(post)\n",
    "    def get_one(self):\n",
    "        return self.db.students.posts.find_one()\n",
    "    def get_more(self):\n",
    "        return self.db.students.posts.find()\n",
    "    def get_one_from_oid(self,oid):\n",
    "        oid=ObjectId(oid)\n",
    "        return self.db.students.posts.find_one({'_id':oid})\n",
    "    def update(self):\n",
    "        return self.db.students.posts.update_one({'name':\"zhangsan\"},{'$inc':{'age':10}})\n",
    "    def update_many(self):\n",
    "        return self.db.students.posts.update_many({},{'$inc':{'age':10}})\n",
    "    def delete(self):\n",
    "        return self.db.students.posts.delete_one({'age':23})\n",
    "    def delete_many(self):\n",
    "        return self.db.students.posts.delete_many({'age':23})\n",
    "def main():\n",
    "    obj=TestMongo()\n",
    "#     rest=obj.add_one()\n",
    "#     print(rest.inserted_id)\n",
    "#     rest=obj.get_one()\n",
    "#     print(type(rest))\n",
    "#     rest=obj.get_more()\n",
    "#     for item in rest:\n",
    "#         print(item[\"_id\"])\n",
    "#     print(rest)\n",
    "#     rest=obj.get_one_from_oid('5c43d023d937060aac6c0959')\n",
    "#     print(rest)\n",
    "#     rest=obj.update_many()\n",
    "#     print(rest.matched_count)\n",
    "#     print(rest.modified_count)\n",
    "    rest=obj.delete_many()\n",
    "    print(rest.deleted_count)\n",
    "if __name__=='__main__':\n",
    "    main()"
   ]
  },
  {
   "cell_type": "code",
   "execution_count": 1,
   "metadata": {},
   "outputs": [],
   "source": [
    "import mongoengine\n",
    "from mongoengine import connect,Document,StringField,IntField,FloatField,EmbeddedDocument,ListField,EmbeddedDocumentField\n",
    "connect('students')\n",
    "SEX_CHOICES=(\n",
    "    ('male','男'),\n",
    "    ('female','女'),\n",
    ")\n",
    "class Grade(EmbeddedDocument):\n",
    "    name=StringField(required=True)\n",
    "    score=FloatField(required=True)\n",
    "class Student(Document):\n",
    "    name=StringField(max_length=32,required=True)\n",
    "    age=IntField(required=True)\n",
    "    grade=FloatField()\n",
    "    addr=FloatField()\n",
    "    sex=StringField(choices=SEX_CHOICES,required=True)\n",
    "    grades=ListField(EmbeddedDocumentField(Grade))"
   ]
  },
  {
   "cell_type": "code",
   "execution_count": null,
   "metadata": {},
   "outputs": [],
   "source": []
  }
 ],
 "metadata": {
  "kernelspec": {
   "display_name": "Python 3",
   "language": "python",
   "name": "python3"
  },
  "language_info": {
   "codemirror_mode": {
    "name": "ipython",
    "version": 3
   },
   "file_extension": ".py",
   "mimetype": "text/x-python",
   "name": "python",
   "nbconvert_exporter": "python",
   "pygments_lexer": "ipython3",
   "version": "3.7.1"
  }
 },
 "nbformat": 4,
 "nbformat_minor": 2
}
